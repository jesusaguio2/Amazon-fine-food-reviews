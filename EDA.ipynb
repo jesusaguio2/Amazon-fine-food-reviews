{
 "cells": [
  {
   "cell_type": "code",
   "execution_count": 3,
   "id": "b7ecf6aa",
   "metadata": {},
   "outputs": [],
   "source": [
    "import pandas as pd\n",
    "import matplotlib.pyplot as plt\n",
    "import seaborn as sns\n",
    "import numpy as np\n",
    "import datetime as dt\n",
    "from scipy import stats\n",
    "from sklearn.feature_extraction.text import CountVectorizer\n",
    "from sklearn.metrics.pairwise import cosine_similarity\n",
    "from sklearn.feature_extraction.text import TfidfVectorizer"
   ]
  },
  {
   "cell_type": "markdown",
   "id": "b845d22c-14c2-4b50-bf8f-d51bdd5015e8",
   "metadata": {},
   "source": [
    "# Carga y limpieza de datos"
   ]
  },
  {
   "cell_type": "code",
   "execution_count": 4,
   "id": "b12e4b75",
   "metadata": {},
   "outputs": [],
   "source": [
    "df = pd.read_csv(\"Reviews.csv\")"
   ]
  },
  {
   "cell_type": "code",
   "execution_count": 5,
   "id": "dbc883c8",
   "metadata": {},
   "outputs": [],
   "source": [
    "df[\"Time\"] = pd.to_datetime(df[\"Time\"], unit=\"s\")"
   ]
  },
  {
   "cell_type": "code",
   "execution_count": 6,
   "id": "f4808d2e",
   "metadata": {
    "scrolled": true
   },
   "outputs": [
    {
     "data": {
      "text/plain": [
       "Id                         0\n",
       "ProductId                  0\n",
       "UserId                     0\n",
       "ProfileName               26\n",
       "HelpfulnessNumerator       0\n",
       "HelpfulnessDenominator     0\n",
       "Score                      0\n",
       "Time                       0\n",
       "Summary                   27\n",
       "Text                       0\n",
       "dtype: int64"
      ]
     },
     "execution_count": 6,
     "metadata": {},
     "output_type": "execute_result"
    }
   ],
   "source": [
    "df.isnull().sum()"
   ]
  },
  {
   "cell_type": "code",
   "execution_count": 7,
   "id": "0dca4a15",
   "metadata": {},
   "outputs": [
    {
     "data": {
      "text/plain": [
       "0         False\n",
       "1         False\n",
       "2         False\n",
       "3         False\n",
       "4         False\n",
       "          ...  \n",
       "568449    False\n",
       "568450    False\n",
       "568451    False\n",
       "568452    False\n",
       "568453    False\n",
       "Length: 568454, dtype: bool"
      ]
     },
     "execution_count": 7,
     "metadata": {},
     "output_type": "execute_result"
    }
   ],
   "source": [
    "df.duplicated()"
   ]
  },
  {
   "cell_type": "code",
   "execution_count": 8,
   "id": "d095a4a5",
   "metadata": {},
   "outputs": [
    {
     "name": "stdout",
     "output_type": "stream",
     "text": [
      "<class 'pandas.core.frame.DataFrame'>\n",
      "RangeIndex: 568454 entries, 0 to 568453\n",
      "Data columns (total 10 columns):\n",
      " #   Column                  Non-Null Count   Dtype         \n",
      "---  ------                  --------------   -----         \n",
      " 0   Id                      568454 non-null  int64         \n",
      " 1   ProductId               568454 non-null  object        \n",
      " 2   UserId                  568454 non-null  object        \n",
      " 3   ProfileName             568428 non-null  object        \n",
      " 4   HelpfulnessNumerator    568454 non-null  int64         \n",
      " 5   HelpfulnessDenominator  568454 non-null  int64         \n",
      " 6   Score                   568454 non-null  int64         \n",
      " 7   Time                    568454 non-null  datetime64[ns]\n",
      " 8   Summary                 568427 non-null  object        \n",
      " 9   Text                    568454 non-null  object        \n",
      "dtypes: datetime64[ns](1), int64(4), object(5)\n",
      "memory usage: 43.4+ MB\n"
     ]
    }
   ],
   "source": [
    "df.info(verbose=True)"
   ]
  },
  {
   "cell_type": "code",
   "execution_count": 9,
   "id": "5d83108b",
   "metadata": {},
   "outputs": [
    {
     "data": {
      "text/html": [
       "<div>\n",
       "<style scoped>\n",
       "    .dataframe tbody tr th:only-of-type {\n",
       "        vertical-align: middle;\n",
       "    }\n",
       "\n",
       "    .dataframe tbody tr th {\n",
       "        vertical-align: top;\n",
       "    }\n",
       "\n",
       "    .dataframe thead th {\n",
       "        text-align: right;\n",
       "    }\n",
       "</style>\n",
       "<table border=\"1\" class=\"dataframe\">\n",
       "  <thead>\n",
       "    <tr style=\"text-align: right;\">\n",
       "      <th></th>\n",
       "      <th>count</th>\n",
       "      <th>unique</th>\n",
       "      <th>top</th>\n",
       "      <th>freq</th>\n",
       "      <th>mean</th>\n",
       "      <th>min</th>\n",
       "      <th>25%</th>\n",
       "      <th>50%</th>\n",
       "      <th>75%</th>\n",
       "      <th>max</th>\n",
       "      <th>std</th>\n",
       "    </tr>\n",
       "  </thead>\n",
       "  <tbody>\n",
       "    <tr>\n",
       "      <th>Id</th>\n",
       "      <td>568454.0</td>\n",
       "      <td>NaN</td>\n",
       "      <td>NaN</td>\n",
       "      <td>NaN</td>\n",
       "      <td>284227.5</td>\n",
       "      <td>1.0</td>\n",
       "      <td>142114.25</td>\n",
       "      <td>284227.5</td>\n",
       "      <td>426340.75</td>\n",
       "      <td>568454.0</td>\n",
       "      <td>164098.679298</td>\n",
       "    </tr>\n",
       "    <tr>\n",
       "      <th>ProductId</th>\n",
       "      <td>568454</td>\n",
       "      <td>74258</td>\n",
       "      <td>B007JFMH8M</td>\n",
       "      <td>913</td>\n",
       "      <td>NaN</td>\n",
       "      <td>NaN</td>\n",
       "      <td>NaN</td>\n",
       "      <td>NaN</td>\n",
       "      <td>NaN</td>\n",
       "      <td>NaN</td>\n",
       "      <td>NaN</td>\n",
       "    </tr>\n",
       "    <tr>\n",
       "      <th>UserId</th>\n",
       "      <td>568454</td>\n",
       "      <td>256059</td>\n",
       "      <td>A3OXHLG6DIBRW8</td>\n",
       "      <td>448</td>\n",
       "      <td>NaN</td>\n",
       "      <td>NaN</td>\n",
       "      <td>NaN</td>\n",
       "      <td>NaN</td>\n",
       "      <td>NaN</td>\n",
       "      <td>NaN</td>\n",
       "      <td>NaN</td>\n",
       "    </tr>\n",
       "    <tr>\n",
       "      <th>ProfileName</th>\n",
       "      <td>568428</td>\n",
       "      <td>218415</td>\n",
       "      <td>C. F. Hill \"CFH\"</td>\n",
       "      <td>451</td>\n",
       "      <td>NaN</td>\n",
       "      <td>NaN</td>\n",
       "      <td>NaN</td>\n",
       "      <td>NaN</td>\n",
       "      <td>NaN</td>\n",
       "      <td>NaN</td>\n",
       "      <td>NaN</td>\n",
       "    </tr>\n",
       "    <tr>\n",
       "      <th>HelpfulnessNumerator</th>\n",
       "      <td>568454.0</td>\n",
       "      <td>NaN</td>\n",
       "      <td>NaN</td>\n",
       "      <td>NaN</td>\n",
       "      <td>1.743817</td>\n",
       "      <td>0.0</td>\n",
       "      <td>0.0</td>\n",
       "      <td>0.0</td>\n",
       "      <td>2.0</td>\n",
       "      <td>866.0</td>\n",
       "      <td>7.636513</td>\n",
       "    </tr>\n",
       "    <tr>\n",
       "      <th>HelpfulnessDenominator</th>\n",
       "      <td>568454.0</td>\n",
       "      <td>NaN</td>\n",
       "      <td>NaN</td>\n",
       "      <td>NaN</td>\n",
       "      <td>2.22881</td>\n",
       "      <td>0.0</td>\n",
       "      <td>0.0</td>\n",
       "      <td>1.0</td>\n",
       "      <td>2.0</td>\n",
       "      <td>923.0</td>\n",
       "      <td>8.28974</td>\n",
       "    </tr>\n",
       "    <tr>\n",
       "      <th>Score</th>\n",
       "      <td>568454.0</td>\n",
       "      <td>NaN</td>\n",
       "      <td>NaN</td>\n",
       "      <td>NaN</td>\n",
       "      <td>4.183199</td>\n",
       "      <td>1.0</td>\n",
       "      <td>4.0</td>\n",
       "      <td>5.0</td>\n",
       "      <td>5.0</td>\n",
       "      <td>5.0</td>\n",
       "      <td>1.310436</td>\n",
       "    </tr>\n",
       "    <tr>\n",
       "      <th>Time</th>\n",
       "      <td>568454</td>\n",
       "      <td>NaN</td>\n",
       "      <td>NaN</td>\n",
       "      <td>NaN</td>\n",
       "      <td>2011-01-28 23:16:44.902419712</td>\n",
       "      <td>1999-10-08 00:00:00</td>\n",
       "      <td>2010-04-15 00:00:00</td>\n",
       "      <td>2011-07-20 00:00:00</td>\n",
       "      <td>2012-03-26 00:00:00</td>\n",
       "      <td>2012-10-26 00:00:00</td>\n",
       "      <td>NaN</td>\n",
       "    </tr>\n",
       "    <tr>\n",
       "      <th>Summary</th>\n",
       "      <td>568427</td>\n",
       "      <td>295742</td>\n",
       "      <td>Delicious!</td>\n",
       "      <td>2462</td>\n",
       "      <td>NaN</td>\n",
       "      <td>NaN</td>\n",
       "      <td>NaN</td>\n",
       "      <td>NaN</td>\n",
       "      <td>NaN</td>\n",
       "      <td>NaN</td>\n",
       "      <td>NaN</td>\n",
       "    </tr>\n",
       "    <tr>\n",
       "      <th>Text</th>\n",
       "      <td>568454</td>\n",
       "      <td>393579</td>\n",
       "      <td>This review will make me sound really stupid, ...</td>\n",
       "      <td>199</td>\n",
       "      <td>NaN</td>\n",
       "      <td>NaN</td>\n",
       "      <td>NaN</td>\n",
       "      <td>NaN</td>\n",
       "      <td>NaN</td>\n",
       "      <td>NaN</td>\n",
       "      <td>NaN</td>\n",
       "    </tr>\n",
       "  </tbody>\n",
       "</table>\n",
       "</div>"
      ],
      "text/plain": [
       "                           count  unique  \\\n",
       "Id                      568454.0     NaN   \n",
       "ProductId                 568454   74258   \n",
       "UserId                    568454  256059   \n",
       "ProfileName               568428  218415   \n",
       "HelpfulnessNumerator    568454.0     NaN   \n",
       "HelpfulnessDenominator  568454.0     NaN   \n",
       "Score                   568454.0     NaN   \n",
       "Time                      568454     NaN   \n",
       "Summary                   568427  295742   \n",
       "Text                      568454  393579   \n",
       "\n",
       "                                                                      top  \\\n",
       "Id                                                                    NaN   \n",
       "ProductId                                                      B007JFMH8M   \n",
       "UserId                                                     A3OXHLG6DIBRW8   \n",
       "ProfileName                                              C. F. Hill \"CFH\"   \n",
       "HelpfulnessNumerator                                                  NaN   \n",
       "HelpfulnessDenominator                                                NaN   \n",
       "Score                                                                 NaN   \n",
       "Time                                                                  NaN   \n",
       "Summary                                                        Delicious!   \n",
       "Text                    This review will make me sound really stupid, ...   \n",
       "\n",
       "                        freq                           mean  \\\n",
       "Id                       NaN                       284227.5   \n",
       "ProductId                913                            NaN   \n",
       "UserId                   448                            NaN   \n",
       "ProfileName              451                            NaN   \n",
       "HelpfulnessNumerator     NaN                       1.743817   \n",
       "HelpfulnessDenominator   NaN                        2.22881   \n",
       "Score                    NaN                       4.183199   \n",
       "Time                     NaN  2011-01-28 23:16:44.902419712   \n",
       "Summary                 2462                            NaN   \n",
       "Text                     199                            NaN   \n",
       "\n",
       "                                        min                  25%  \\\n",
       "Id                                      1.0            142114.25   \n",
       "ProductId                               NaN                  NaN   \n",
       "UserId                                  NaN                  NaN   \n",
       "ProfileName                             NaN                  NaN   \n",
       "HelpfulnessNumerator                    0.0                  0.0   \n",
       "HelpfulnessDenominator                  0.0                  0.0   \n",
       "Score                                   1.0                  4.0   \n",
       "Time                    1999-10-08 00:00:00  2010-04-15 00:00:00   \n",
       "Summary                                 NaN                  NaN   \n",
       "Text                                    NaN                  NaN   \n",
       "\n",
       "                                        50%                  75%  \\\n",
       "Id                                 284227.5            426340.75   \n",
       "ProductId                               NaN                  NaN   \n",
       "UserId                                  NaN                  NaN   \n",
       "ProfileName                             NaN                  NaN   \n",
       "HelpfulnessNumerator                    0.0                  2.0   \n",
       "HelpfulnessDenominator                  1.0                  2.0   \n",
       "Score                                   5.0                  5.0   \n",
       "Time                    2011-07-20 00:00:00  2012-03-26 00:00:00   \n",
       "Summary                                 NaN                  NaN   \n",
       "Text                                    NaN                  NaN   \n",
       "\n",
       "                                        max            std  \n",
       "Id                                 568454.0  164098.679298  \n",
       "ProductId                               NaN            NaN  \n",
       "UserId                                  NaN            NaN  \n",
       "ProfileName                             NaN            NaN  \n",
       "HelpfulnessNumerator                  866.0       7.636513  \n",
       "HelpfulnessDenominator                923.0        8.28974  \n",
       "Score                                   5.0       1.310436  \n",
       "Time                    2012-10-26 00:00:00            NaN  \n",
       "Summary                                 NaN            NaN  \n",
       "Text                                    NaN            NaN  "
      ]
     },
     "execution_count": 9,
     "metadata": {},
     "output_type": "execute_result"
    }
   ],
   "source": [
    "df.describe(include=\"all\").T"
   ]
  },
  {
   "cell_type": "code",
   "execution_count": 10,
   "id": "b6b7a6f7",
   "metadata": {},
   "outputs": [
    {
     "name": "stdout",
     "output_type": "stream",
     "text": [
      "Número de filas del df:  568454\n",
      "Número de columnas del df:  10\n"
     ]
    }
   ],
   "source": [
    "print(\"Número de filas del df: \", df.shape[0])\n",
    "print(\"Número de columnas del df: \", df.shape[1])"
   ]
  },
  {
   "cell_type": "code",
   "execution_count": 11,
   "id": "3cbd6b5d",
   "metadata": {},
   "outputs": [],
   "source": [
    "df = df[df[\"HelpfulnessNumerator\"] <= df[\"HelpfulnessDenominator\"]]"
   ]
  },
  {
   "cell_type": "code",
   "execution_count": 12,
   "id": "47fd931a",
   "metadata": {},
   "outputs": [
    {
     "data": {
      "text/html": [
       "<div>\n",
       "<style scoped>\n",
       "    .dataframe tbody tr th:only-of-type {\n",
       "        vertical-align: middle;\n",
       "    }\n",
       "\n",
       "    .dataframe tbody tr th {\n",
       "        vertical-align: top;\n",
       "    }\n",
       "\n",
       "    .dataframe thead th {\n",
       "        text-align: right;\n",
       "    }\n",
       "</style>\n",
       "<table border=\"1\" class=\"dataframe\">\n",
       "  <thead>\n",
       "    <tr style=\"text-align: right;\">\n",
       "      <th></th>\n",
       "      <th>Id</th>\n",
       "      <th>ProductId</th>\n",
       "      <th>UserId</th>\n",
       "      <th>ProfileName</th>\n",
       "      <th>HelpfulnessNumerator</th>\n",
       "      <th>HelpfulnessDenominator</th>\n",
       "      <th>Score</th>\n",
       "      <th>Time</th>\n",
       "      <th>Summary</th>\n",
       "      <th>Text</th>\n",
       "    </tr>\n",
       "  </thead>\n",
       "  <tbody>\n",
       "    <tr>\n",
       "      <th>0</th>\n",
       "      <td>1</td>\n",
       "      <td>B001E4KFG0</td>\n",
       "      <td>A3SGXH7AUHU8GW</td>\n",
       "      <td>delmartian</td>\n",
       "      <td>1</td>\n",
       "      <td>1</td>\n",
       "      <td>5</td>\n",
       "      <td>2011-04-27</td>\n",
       "      <td>Good Quality Dog Food</td>\n",
       "      <td>I have bought several of the Vitality canned d...</td>\n",
       "    </tr>\n",
       "    <tr>\n",
       "      <th>1</th>\n",
       "      <td>2</td>\n",
       "      <td>B00813GRG4</td>\n",
       "      <td>A1D87F6ZCVE5NK</td>\n",
       "      <td>dll pa</td>\n",
       "      <td>0</td>\n",
       "      <td>0</td>\n",
       "      <td>1</td>\n",
       "      <td>2012-09-07</td>\n",
       "      <td>Not as Advertised</td>\n",
       "      <td>Product arrived labeled as Jumbo Salted Peanut...</td>\n",
       "    </tr>\n",
       "    <tr>\n",
       "      <th>2</th>\n",
       "      <td>3</td>\n",
       "      <td>B000LQOCH0</td>\n",
       "      <td>ABXLMWJIXXAIN</td>\n",
       "      <td>Natalia Corres \"Natalia Corres\"</td>\n",
       "      <td>1</td>\n",
       "      <td>1</td>\n",
       "      <td>4</td>\n",
       "      <td>2008-08-18</td>\n",
       "      <td>\"Delight\" says it all</td>\n",
       "      <td>This is a confection that has been around a fe...</td>\n",
       "    </tr>\n",
       "    <tr>\n",
       "      <th>3</th>\n",
       "      <td>4</td>\n",
       "      <td>B000UA0QIQ</td>\n",
       "      <td>A395BORC6FGVXV</td>\n",
       "      <td>Karl</td>\n",
       "      <td>3</td>\n",
       "      <td>3</td>\n",
       "      <td>2</td>\n",
       "      <td>2011-06-13</td>\n",
       "      <td>Cough Medicine</td>\n",
       "      <td>If you are looking for the secret ingredient i...</td>\n",
       "    </tr>\n",
       "    <tr>\n",
       "      <th>4</th>\n",
       "      <td>5</td>\n",
       "      <td>B006K2ZZ7K</td>\n",
       "      <td>A1UQRSCLF8GW1T</td>\n",
       "      <td>Michael D. Bigham \"M. Wassir\"</td>\n",
       "      <td>0</td>\n",
       "      <td>0</td>\n",
       "      <td>5</td>\n",
       "      <td>2012-10-21</td>\n",
       "      <td>Great taffy</td>\n",
       "      <td>Great taffy at a great price.  There was a wid...</td>\n",
       "    </tr>\n",
       "  </tbody>\n",
       "</table>\n",
       "</div>"
      ],
      "text/plain": [
       "   Id   ProductId          UserId                      ProfileName  \\\n",
       "0   1  B001E4KFG0  A3SGXH7AUHU8GW                       delmartian   \n",
       "1   2  B00813GRG4  A1D87F6ZCVE5NK                           dll pa   \n",
       "2   3  B000LQOCH0   ABXLMWJIXXAIN  Natalia Corres \"Natalia Corres\"   \n",
       "3   4  B000UA0QIQ  A395BORC6FGVXV                             Karl   \n",
       "4   5  B006K2ZZ7K  A1UQRSCLF8GW1T    Michael D. Bigham \"M. Wassir\"   \n",
       "\n",
       "   HelpfulnessNumerator  HelpfulnessDenominator  Score       Time  \\\n",
       "0                     1                       1      5 2011-04-27   \n",
       "1                     0                       0      1 2012-09-07   \n",
       "2                     1                       1      4 2008-08-18   \n",
       "3                     3                       3      2 2011-06-13   \n",
       "4                     0                       0      5 2012-10-21   \n",
       "\n",
       "                 Summary                                               Text  \n",
       "0  Good Quality Dog Food  I have bought several of the Vitality canned d...  \n",
       "1      Not as Advertised  Product arrived labeled as Jumbo Salted Peanut...  \n",
       "2  \"Delight\" says it all  This is a confection that has been around a fe...  \n",
       "3         Cough Medicine  If you are looking for the secret ingredient i...  \n",
       "4            Great taffy  Great taffy at a great price.  There was a wid...  "
      ]
     },
     "execution_count": 12,
     "metadata": {},
     "output_type": "execute_result"
    }
   ],
   "source": [
    "df.head()"
   ]
  },
  {
   "cell_type": "markdown",
   "id": "074ca22a-54f9-49d6-a16b-b450da46ec5f",
   "metadata": {},
   "source": [
    "# Distribución básica"
   ]
  },
  {
   "cell_type": "markdown",
   "id": "4d649d4a-c81f-45ba-9ece-dd4b9f891613",
   "metadata": {},
   "source": [
    "Distribución de scores"
   ]
  },
  {
   "cell_type": "code",
   "execution_count": 13,
   "id": "e2d97eb4",
   "metadata": {},
   "outputs": [
    {
     "name": "stderr",
     "output_type": "stream",
     "text": [
      "C:\\Users\\jesus\\AppData\\Local\\Temp\\ipykernel_22612\\3531730883.py:2: FutureWarning: \n",
      "\n",
      "Passing `palette` without assigning `hue` is deprecated and will be removed in v0.14.0. Assign the `x` variable to `hue` and set `legend=False` for the same effect.\n",
      "\n",
      "  ax = sns.countplot(x=\"Score\", data=df, palette=\"viridis\", order=sorted(df[\"Score\"].unique()))\n"
     ]
    },
    {
     "data": {
      "image/png": "[encoded data removed]",
      "text/plain": [
       "<Figure size 1000x600 with 1 Axes>"
      ]
     },
     "metadata": {},
     "output_type": "display_data"
    }
   ],
   "source": [
    "plt.figure(figsize=(10, 6))\n",
    "ax = sns.countplot(x=\"Score\", data=df, palette=\"viridis\", order=sorted(df[\"Score\"].unique()))\n",
    "\n",
    "plt.title(\"Distribución de Score\", fontsize=14, pad=20)\n",
    "plt.xlabel(\"Puntuación\", fontsize=12)\n",
    "plt.ylabel(\"Cantidad de Reseñas\", fontsize=12)\n",
    "\n",
    "plt.yticks(fontsize=10)\n",
    "ax.yaxis.set_major_formatter(plt.FormatStrFormatter(\"%.0f\"))\n",
    "\n",
    "for p in ax.patches:\n",
    "    height = p.get_height()\n",
    "    ax.text(p.get_x() + p.get_width() / 2., height + 5, f'{int(height)}', ha=\"center\", fontsize=10)\n",
    "\n",
    "plt.tight_layout()\n",
    "plt.show()"
   ]
  },
  {
   "cell_type": "code",
   "execution_count": 14,
   "id": "ac6580c7",
   "metadata": {},
   "outputs": [
    {
     "data": {
      "text/plain": [
       "Score\n",
       "5    363121\n",
       "4     80654\n",
       "1     52268\n",
       "3     42640\n",
       "2     29769\n",
       "Name: count, dtype: int64"
      ]
     },
     "execution_count": 14,
     "metadata": {},
     "output_type": "execute_result"
    }
   ],
   "source": [
    "df[\"Score\"].value_counts()"
   ]
  },
  {
   "cell_type": "markdown",
   "id": "2a52f675-3d94-4625-bd83-8a23ae5d5743",
   "metadata": {},
   "source": [
    "Distribución básica de Helpfulness Ratio"
   ]
  },
  {
   "cell_type": "code",
   "execution_count": 15,
   "id": "860d0eaf-fd63-4124-82eb-1f7095b75a9a",
   "metadata": {},
   "outputs": [
    {
     "name": "stderr",
     "output_type": "stream",
     "text": [
      "C:\\Users\\jesus\\AppData\\Local\\Temp\\ipykernel_22612\\900212854.py:23: FutureWarning: \n",
      "\n",
      "Passing `palette` without assigning `hue` is deprecated and will be removed in v0.14.0. Assign the `x` variable to `hue` and set `legend=False` for the same effect.\n",
      "\n",
      "  boxplot = sns.boxplot(\n"
     ]
    },
    {
     "data": {
      "image/png": "[encoded data removed]",
      "text/plain": [
       "<Figure size 1200x700 with 1 Axes>"
      ]
     },
     "metadata": {},
     "output_type": "display_data"
    }
   ],
   "source": [
    "df[\"Helpfulness ratio\"] = np.where(\n",
    "    df[\"HelpfulnessDenominator\"] > 0,\n",
    "    df[\"HelpfulnessNumerator\"] / df[\"HelpfulnessDenominator\"],\n",
    "    np.nan\n",
    ")"
   ]
  },
  {
   "cell_type": "code",
   "execution_count": null,
   "id": "c3f248de-8bee-49ce-a4d1-46cd8e22f74f",
   "metadata": {},
   "outputs": [],
   "source": [
    "valid_data = df.dropna(subset=[\"Helpfulness ratio\"])"
   ]
  },
  {
   "cell_type": "code",
   "execution_count": null,
   "id": "254161c7-508d-4223-bf7a-be5525ee7165",
   "metadata": {},
   "outputs": [],
   "source": [
    "stats = valid_data.groupby(\"Score\")[\"Helpfulness ratio\"].agg([\n",
    "    (\"Count\", \"count\"),\n",
    "    (\"Mean\", \"mean\"),\n",
    "    (\"Median\", \"median\"),\n",
    "    (\"Std Dev\", \"std\"),\n",
    "    (\"Q1\", lambda x: x.quantile(0.25)),\n",
    "    (\"Q3\", lambda x: x.quantile(0.75)),\n",
    "    (\"IQR\", lambda x: x.quantile(0.75) - x.quantile(0.25)),\n",
    "    (\"Min\", \"min\"),\n",
    "    (\"Max\", \"max\")\n",
    "]).round(3)"
   ]
  },
  {
   "cell_type": "code",
   "execution_count": null,
   "id": "e855e664-5889-4326-a224-7bfb06ffa8f6",
   "metadata": {},
   "outputs": [],
   "source": [
    "plt.figure(figsize=(12, 7))\n",
    "\n",
    "boxplot = sns.boxplot(\n",
    "    x=\"Score\", \n",
    "    y=\"Helpfulness ratio\", \n",
    "    data=df.dropna(subset=[\"Helpfulness ratio\"]),\n",
    "    palette=[\"#FF6B6B\", \"#FFA36B\", \"#FFD166\", \"#06D6A0\", \"#118AB2\"],\n",
    "    width=0.6,\n",
    "    linewidth=1.5,\n",
    "    flierprops={\"marker\": \"o\", \"markersize\": 5, \"markerfacecolor\": \"gray\", \"alpha\": 0.5}\n",
    ")\n",
    "\n",
    "plt.title(\"Distribución del Helpfulness Ratio por Score\", \n",
    "          fontsize=14, pad=20)\n",
    "plt.xlabel(\"Score\", fontsize=12)\n",
    "plt.ylabel(\"Helpfulness ratio\", fontsize=12)\n",
    "plt.grid(axis=\"y\", alpha=0.2, linestyle=\"--\")\n",
    "\n",
    "plt.axhline(y=0.5, color=\"gray\", linestyle=\"--\", alpha=0.7, linewidth=1)\n",
    "plt.text(5.3, 0.5, \"50% útil\", va=\"center\", ha=\"left\", color=\"gray\", fontsize=10)\n",
    "\n",
    "\n",
    "plt.ylim(-0.05, 1.05)\n",
    "\n",
    "medians = df.groupby(\"Score\")[\"Helpfulness ratio\"].median()\n",
    "for i, score in enumerate(stats.index):\n",
    "    text = (f\"n={stats.loc[score, \"Count\"]}\\n\"\n",
    "            f\"μ={stats.loc[score, \"Mean\"]:.2f}\\n\"\n",
    "            f\"med={stats.loc[score, \"Median\"]:.2f}\\n\"\n",
    "            f\"IQR={stats.loc[score, \"IQR\"]:.2f}\")\n",
    "    boxplot.text(i+0.2, 0.95, text, \n",
    "            ha=\"left\", va=\"top\", \n",
    "            bbox=dict(facecolor=\"white\", alpha=0.8, edgecolor=\"none\"),\n",
    "            fontsize=9)\n",
    "\n",
    "plt.tight_layout()\n",
    "plt.show()"
   ]
  },
  {
   "cell_type": "markdown",
   "id": "6e8275f4-7aed-4857-bc99-57032531d5ec",
   "metadata": {},
   "source": [
    "# Analisis temporal"
   ]
  },
  {
   "cell_type": "markdown",
   "id": "e13decb4-8981-4485-9104-54cfee2ed813",
   "metadata": {},
   "source": [
    "Tendencia temporal de ratings"
   ]
  },
  {
   "cell_type": "code",
   "execution_count": 16,
   "id": "7cf7886f-bf12-480e-a87c-60ca52835746",
   "metadata": {},
   "outputs": [
    {
     "ename": "NameError",
     "evalue": "name 'colors' is not defined",
     "output_type": "error",
     "traceback": [
      "\u001b[31m---------------------------------------------------------------------------\u001b[39m",
      "\u001b[31mNameError\u001b[39m                                 Traceback (most recent call last)",
      "\u001b[36mCell\u001b[39m\u001b[36m \u001b[39m\u001b[32mIn[16]\u001b[39m\u001b[32m, line 12\u001b[39m\n\u001b[32m      8\u001b[39m monthly_ratings[\u001b[33m\"\u001b[39m\u001b[33mYear-Month\u001b[39m\u001b[33m\"\u001b[39m] = monthly_ratings[\u001b[33m\"\u001b[39m\u001b[33mYear\u001b[39m\u001b[33m\"\u001b[39m].astype(\u001b[38;5;28mstr\u001b[39m) + \u001b[33m\"\u001b[39m\u001b[33m-\u001b[39m\u001b[33m\"\u001b[39m + monthly_ratings[\u001b[33m\"\u001b[39m\u001b[33mMonth\u001b[39m\u001b[33m\"\u001b[39m].astype(\u001b[38;5;28mstr\u001b[39m).str.pad(\u001b[32m2\u001b[39m, fillchar=\u001b[33m\"\u001b[39m\u001b[33m0\u001b[39m\u001b[33m\"\u001b[39m)\n\u001b[32m     10\u001b[39m plt.figure(figsize=(\u001b[32m14\u001b[39m, \u001b[32m7\u001b[39m))\n\u001b[32m---> \u001b[39m\u001b[32m12\u001b[39m \u001b[38;5;28;01mfor\u001b[39;00m score, color \u001b[38;5;129;01min\u001b[39;00m \u001b[38;5;28mzip\u001b[39m([\u001b[32m1\u001b[39m, \u001b[32m2\u001b[39m, \u001b[32m3\u001b[39m, \u001b[32m4\u001b[39m, \u001b[32m5\u001b[39m], colors):\n\u001b[32m     13\u001b[39m     plt.plot(monthly_ratings[\u001b[33m\"\u001b[39m\u001b[33mYear-Month\u001b[39m\u001b[33m\"\u001b[39m], \n\u001b[32m     14\u001b[39m              monthly_ratings[score],  \n\u001b[32m     15\u001b[39m              label=\u001b[33mf\u001b[39m\u001b[33m'\u001b[39m\u001b[38;5;132;01m{\u001b[39;00mscore\u001b[38;5;132;01m}\u001b[39;00m\u001b[33m estrella\u001b[39m\u001b[38;5;132;01m{\u001b[39;00m\u001b[33m\"\u001b[39m\u001b[33ms\u001b[39m\u001b[33m\"\u001b[39m\u001b[38;5;250m \u001b[39m\u001b[38;5;28;01mif\u001b[39;00m\u001b[38;5;250m \u001b[39mscore\u001b[38;5;250m \u001b[39m>\u001b[38;5;250m \u001b[39m\u001b[32m1\u001b[39m\u001b[38;5;250m \u001b[39m\u001b[38;5;28;01melse\u001b[39;00m\u001b[38;5;250m \u001b[39m\u001b[33m\"\u001b[39m\u001b[33m\"\u001b[39m\u001b[38;5;132;01m}\u001b[39;00m\u001b[33m'\u001b[39m)\n\u001b[32m     17\u001b[39m plt.title(\u001b[33m\"\u001b[39m\u001b[33mEvolución de Ratings por Mes\u001b[39m\u001b[33m\"\u001b[39m, fontsize=\u001b[32m16\u001b[39m)\n",
      "\u001b[31mNameError\u001b[39m: name 'colors' is not defined"
     ]
    },
    {
     "data": {
      "text/plain": [
       "<Figure size 1400x700 with 0 Axes>"
      ]
     },
     "metadata": {},
     "output_type": "display_data"
    }
   ],
   "source": [
    "df[\"Time\"] = pd.to_datetime(df[\"Time\"], unit=\"s\")\n",
    "df[\"Year\"] = df[\"Time\"].dt.year\n",
    "df[\"Month\"] = df[\"Time\"].dt.month\n",
    "\n",
    "monthly_ratings = df.groupby([\"Year\", \"Month\"])[\"Score\"].value_counts(normalize=True).unstack() * 100\n",
    "monthly_ratings = monthly_ratings.reset_index()\n",
    "\n",
    "monthly_ratings[\"Year-Month\"] = monthly_ratings[\"Year\"].astype(str) + \"-\" + monthly_ratings[\"Month\"].astype(str).str.pad(2, fillchar=\"0\")"
   ]
  },
  {
   "cell_type": "code",
   "execution_count": null,
   "id": "5835a330-4fc1-4cb3-8ade-cda85bae3ee2",
   "metadata": {},
   "outputs": [],
   "source": [
    "plt.figure(figsize=(14, 7))\n",
    "\n",
    "for score, color in zip([1, 2, 3, 4, 5], colors):\n",
    "    plt.plot(monthly_ratings[\"Year-Month\"], \n",
    "             monthly_ratings[score],  \n",
    "             label=f'{score} estrella{\"s\" if score > 1 else \"\"}')\n",
    "\n",
    "plt.title(\"Evolución de Ratings por Mes\", fontsize=16)\n",
    "plt.xlabel(\"Mes\")\n",
    "plt.ylabel(\"Porcentaje de Ratings (%)\")\n",
    "\n",
    "n = len(monthly_ratings)\n",
    "plt.xticks(range(0, n, 3), monthly_ratings[\"Year-Month\"][::3], rotation=45)\n",
    "\n",
    "plt.legend(title=\"Rating\", bbox_to_anchor=(1.05, 1), loc=\"upper left\")\n",
    "plt.grid(True, linestyle=\"--\", alpha=0.7)\n",
    "plt.tight_layout()\n",
    "plt.show()"
   ]
  },
  {
   "cell_type": "markdown",
   "id": "0a9920ee-1251-4921-a04a-8d6271f50b86",
   "metadata": {},
   "source": [
    "Analisis temporal de la actividad"
   ]
  },
  {
   "cell_type": "code",
   "execution_count": null,
   "id": "bd487155-605a-46ce-b8f3-210b91209fb8",
   "metadata": {},
   "outputs": [],
   "source": [
    "df[\"Time\"] = pd.to_datetime(df[\"Time\"], unit=\"s\")\n",
    "df[\"Year\"] = df[\"Time\"].dt.year\n",
    "df[\"Month\"] = df[\"Time\"].dt.month\n",
    "\n",
    "df[\"Year-Month\"] = df[\"Year\"].astype(str) + \"-\" + df[\"Month\"].astype(str).str.pad(2, fillchar=\"0\")\n",
    "monthly_activity = df[\"Year-Month\"].value_counts().sort_index()"
   ]
  },
  {
   "cell_type": "code",
   "execution_count": null,
   "id": "3f7a6366-fc15-45a8-b47f-5449b7ec0c20",
   "metadata": {},
   "outputs": [],
   "source": [
    "plt.figure(figsize=(14, 7))\n",
    "plt.style.use(\"seaborn-v0_8-whitegrid\")\n",
    "\n",
    "plt.plot(monthly_activity.index, \n",
    "         monthly_activity.values,\n",
    "         markersize=8,\n",
    "         linewidth=2.5,\n",
    "         color=\"#4C72B0\")\n",
    "\n",
    "plt.title(\"Actividad Mensual de Ratings\", fontsize=16, pad=20)\n",
    "plt.xlabel(\"Mes\", fontsize=12)\n",
    "plt.ylabel(\"Número Total de Ratings\", fontsize=12)\n",
    "\n",
    "n_months = len(monthly_activity)\n",
    "skip = max(1, n_months // 10)  \n",
    "plt.xticks(range(0, n_months, skip), \n",
    "          monthly_activity.index[::skip], \n",
    "          rotation=45, ha=\"right\")\n",
    "\n",
    "plt.grid(True, linestyle=\":\", alpha=0.6)\n",
    "\n",
    "\n",
    "plt.tight_layout()\n",
    "plt.show()"
   ]
  },
  {
   "cell_type": "markdown",
   "id": "35371f61-cc13-4b48-b82a-c5eb8813f91f",
   "metadata": {},
   "source": [
    "# Análisis de productos"
   ]
  },
  {
   "cell_type": "markdown",
   "id": "7544cb92-1604-4398-bccb-1a757e047d70",
   "metadata": {},
   "source": [
    "Número de productos que aparecen en el dataset"
   ]
  },
  {
   "cell_type": "code",
   "execution_count": 35,
   "id": "7c436abd-da57-45d1-be48-675835e94d14",
   "metadata": {},
   "outputs": [
    {
     "name": "stdout",
     "output_type": "stream",
     "text": [
      "El dataset contiene  74257  productos distintos\n"
     ]
    }
   ],
   "source": [
    "total_productos = df['ProductId'].nunique()\n",
    "print(\"El dataset contiene \", total_productos, \" productos distintos\")"
   ]
  },
  {
   "cell_type": "markdown",
   "id": "b9dc64c1-7337-4c0d-a4fe-1f843223a335",
   "metadata": {},
   "source": [
    "Top 10 productos mas reseñados"
   ]
  },
  {
   "cell_type": "code",
   "execution_count": null,
   "id": "3e317d81",
   "metadata": {},
   "outputs": [],
   "source": [
    "top_products = df[\"ProductId\"].value_counts().head(10)"
   ]
  },
  {
   "cell_type": "code",
   "execution_count": null,
   "id": "15c8d812-4619-47f1-8761-5dad3a2f5803",
   "metadata": {},
   "outputs": [],
   "source": [
    "plt.figure(figsize=(10, 6))\n",
    "ax = sns.barplot(x=top_products.values, \n",
    "                 y=top_products.index,)  \n",
    "\n",
    "plt.title(\"Top 10 productos con más Reseñas\", fontsize=14)\n",
    "plt.xlabel(\"Número de Reseñas\")\n",
    "plt.ylabel(\"Product Id\")\n",
    "\n",
    "for value in ax.containers[0]:  \n",
    "    width = value.get_width()\n",
    "    ax.text(width / 2,                    \n",
    "            value.get_y() + value.get_height()/2,  \n",
    "            f\"{int(width)}\",            \n",
    "            ha=\"center\", \n",
    "            va=\"center\",\n",
    "            color=\"white\",\n",
    "            fontsize=10)\n",
    "\n",
    "sns.despine() \n",
    "plt.tight_layout()\n",
    "plt.show()"
   ]
  },
  {
   "cell_type": "code",
   "execution_count": null,
   "id": "a3c4e658-089f-4412-8537-3942036ed8ac",
   "metadata": {},
   "outputs": [],
   "source": [
    "reviews_count = df.groupby(\"ProductId\").size().reset_index(name=\"ReviewCount\")\n",
    "avg_score = df.groupby(\"ProductId\")[\"Score\"].mean().reset_index(name=\"AvgScore\")\n",
    "product_stats = pd.merge(reviews_count, avg_score, on=\"ProductId\")\n",
    "top_10 = product_stats.sort_values(\"ReviewCount\", ascending=False)\n",
    "top_10.head(10)"
   ]
  },
  {
   "cell_type": "markdown",
   "id": "1c5c5b73",
   "metadata": {
    "jp-MarkdownHeadingCollapsed": true
   },
   "source": [
    "Polaridad de los productos"
   ]
  },
  {
   "cell_type": "code",
   "execution_count": null,
   "id": "2bdfe4a7",
   "metadata": {},
   "outputs": [],
   "source": [
    "df_extremas = df[df[\"Score\"].isin([1, 5])]\n",
    "porcentaje_extremas = (len(df_extremas) / len(df)) * 100\n",
    "procentajes_no_extremos = 100 - porcentaje_extremas\n",
    "productos_polarizados = df.groupby(\"ProductId\")[\"Score\"].agg(lambda x: all(x.isin([1, 5]))).reset_index()\n",
    "productos_polarizados = productos_polarizados[productos_polarizados[\"Score\"] == True]"
   ]
  },
  {
   "cell_type": "code",
   "execution_count": null,
   "id": "5c6b2f5a",
   "metadata": {},
   "outputs": [],
   "source": [
    "plt.figure(figsize=(8, 6))\n",
    "plt.pie([porcentaje_extremas, procentajes_no_extremos],\n",
    "    labels=[\"Reseñas extremas\", \"Reseñas no extremas\"],\n",
    "    autopct=\"%1.1f%%\",\n",
    "    colors=[\"#ff9999\",\"#66b3ff\"]),\n",
    "plt.title(\"Distribución de Polaridad Extrema\")\n",
    "plt.show()"
   ]
  },
  {
   "cell_type": "code",
   "execution_count": null,
   "id": "54023f16",
   "metadata": {},
   "outputs": [],
   "source": [
    "polarization_index = df.groupby(\"ProductId\")[\"Score\"].agg(\n",
    "    total_reviews = \"count\",\n",
    "    pct_1star = lambda x: (x==1).mean() * 100,\n",
    "    pct_5star = lambda x: (x==5).mean() * 100,\n",
    "    polarization_score = lambda x: ((x==1).mean() + (x==5).mean()) * 100\n",
    ").reset_index()\n",
    "\n",
    "polarization_index.head()"
   ]
  },
  {
   "cell_type": "code",
   "execution_count": null,
   "id": "60b7729f",
   "metadata": {},
   "outputs": [],
   "source": [
    "polarization_index['tipo_polarizacion'] = polarization_index.apply(\n",
    "    lambda row: \"Positiva\" if row[\"pct_5star\"] > 70 else\n",
    "                \"Negativa\" if row[\"pct_1star\"] > 70 else\n",
    "                \"Mixta\", axis=1\n",
    ")"
   ]
  },
  {
   "cell_type": "code",
   "execution_count": null,
   "id": "07d8d2f5-5c65-43bc-9271-7db88298afc8",
   "metadata": {},
   "outputs": [],
   "source": [
    "polarization_summary = polarization_index.groupby(\"tipo_polarizacion\").agg(\n",
    "    num_productos = (\"ProductId\", \"count\"),\n",
    "    avg_polarization = (\"polarization_score\", \"mean\"),\n",
    "    avg_reviews = (\"total_reviews\", \"mean\")\n",
    ").reset_index()\n",
    "\n",
    "display(polarization_summary)"
   ]
  },
  {
   "cell_type": "code",
   "execution_count": null,
   "id": "f0e85f59-3b37-44ba-b3ab-70a3f11716ce",
   "metadata": {},
   "outputs": [],
   "source": [
    "plt.figure(figsize=(12, 6))\n",
    "sns.barplot(\n",
    "    data=polarization_summary,\n",
    "    x=\"tipo_polarizacion\",\n",
    "    y=\"avg_polarization\",\n",
    "    hue=\"tipo_polarizacion\",\n",
    "    palette={\"Positiva\": \"green\", \"Negativa\": \"red\", \"Mixta\": \"orange\"}\n",
    ")\n",
    "\n",
    "plt.title(\"Top 20 Productos Más Polarizados\", fontsize=14)\n",
    "plt.xlabel(\"ID de Producto\")\n",
    "plt.ylabel(\"Puntuación de Polarización (%)\")\n",
    "\n",
    "\n",
    "for index, row in polarization_summary.iterrows():\n",
    "    plt.text(\n",
    "        index, \n",
    "        row[\"avg_polarization\"] + 1, \n",
    "        f\"{row[\"avg_polarization\"]:.1f}%\",\n",
    "        ha=\"center\",\n",
    "        va=\"bottom\"\n",
    "    )\n",
    "    \n",
    "plt.xticks(rotation=45)\n",
    "plt.show()"
   ]
  },
  {
   "cell_type": "markdown",
   "id": "a360a4ca-6c8e-4e63-8336-09999ede51c7",
   "metadata": {},
   "source": [
    "Consistencia de productos (productos que solo valoraciones de 1 estrella o productos que tienen solo 5 estrellas)"
   ]
  },
  {
   "cell_type": "code",
   "execution_count": null,
   "id": "bbd694e0-5bce-4785-bb56-fb980c75516b",
   "metadata": {},
   "outputs": [],
   "source": [
    "productos_solo_score1 = (\n",
    "    df.groupby(\"ProductId\")\n",
    "    .agg(\n",
    "        Todas_son_1=(\"Score\", lambda x: (x == 1).all()),  \n",
    "        Num_reseñas=(\"Score\", \"count\")                    \n",
    "    )\n",
    "    .reset_index()\n",
    "    .query(\"Todas_son_1 == True\")  \n",
    ")"
   ]
  },
  {
   "cell_type": "code",
   "execution_count": null,
   "id": "da283350-3e55-4385-bea2-a315b7838af1",
   "metadata": {},
   "outputs": [],
   "source": [
    "print(len(productos_solo_score1))\n",
    "topscore1 = productos_solo_score1.sort_values(\"Num_reseñas\", ascending=False)\n",
    "topscore1.head()"
   ]
  },
  {
   "cell_type": "code",
   "execution_count": null,
   "id": "70a98e2b-80a6-43a2-a831-d5ad419ee92f",
   "metadata": {},
   "outputs": [],
   "source": [
    "productos_solo_score5 = (\n",
    "    df.groupby(\"ProductId\")\n",
    "    .agg(\n",
    "        Todas_son_5=(\"Score\", lambda x: (x == 5).all()),  \n",
    "        Num_reseñas=(\"Score\", \"count\")                    \n",
    "    )\n",
    "    .reset_index()\n",
    "    .query(\"Todas_son_5 == True\")  \n",
    ")"
   ]
  },
  {
   "cell_type": "code",
   "execution_count": null,
   "id": "1cd991e8-1977-4f1f-b922-60a9f83974b4",
   "metadata": {},
   "outputs": [],
   "source": [
    "print(len(productos_solo_score5))\n",
    "topscore5 = productos_solo_score5.sort_values(\"Num_reseñas\", ascending=False)\n",
    "topscore5.head()"
   ]
  },
  {
   "cell_type": "markdown",
   "id": "ae85510a-a0fa-45b7-b7ee-7804b696fa61",
   "metadata": {},
   "source": [
    "# Análisis de usuarios"
   ]
  },
  {
   "cell_type": "markdown",
   "id": "3636aa24-264f-411b-b0bc-1ef368f94455",
   "metadata": {},
   "source": [
    "Total de usuarios en el dataset"
   ]
  },
  {
   "cell_type": "code",
   "execution_count": 33,
   "id": "6b4bada6-73c1-41fd-84f0-84f89c71286c",
   "metadata": {},
   "outputs": [
    {
     "name": "stdout",
     "output_type": "stream",
     "text": [
      "El dataset contiene  218415  usuarios únicos\n"
     ]
    }
   ],
   "source": [
    "total_usuarios = df[\"ProfileName\"].nunique()\n",
    "print(\"El dataset contiene \", total_usuarios, \" usuarios únicos\")"
   ]
  },
  {
   "cell_type": "markdown",
   "id": "11c7a723-b220-4705-9128-67c7f4b47287",
   "metadata": {},
   "source": [
    "Usuarios que solo han valorado una vez"
   ]
  },
  {
   "cell_type": "code",
   "execution_count": null,
   "id": "c86e4f2a-7b56-4092-9683-44696b13c17c",
   "metadata": {},
   "outputs": [],
   "source": [
    "conteo_resenas_por_usuario = df.groupby(\"UserId\").size().reset_index(name=\"Num_reseñas\")\n",
    "usuarios_con_una_resena = conteo_resenas_por_usuario[conteo_resenas_por_usuario[\"Num_reseñas\"] == 1]\n",
    "total_usuarios_una_resena = len(usuarios_con_una_resena)\n",
    "print(\"Numero de usuarios con una reseña: \", total_usuarios_una_resena)"
   ]
  },
  {
   "cell_type": "code",
   "execution_count": null,
   "id": "249fcfa1-ac65-4ab1-a832-25727f704bb4",
   "metadata": {},
   "outputs": [],
   "source": [
    "total_usuarios = len(df[\"UserId\"].unique())\n",
    "porcentaje = (total_usuarios_una_resena / total_usuarios) * 100\n",
    "print(\"Porcentaje de usuarios con una reseña respecto al total de usuarios: \", porcentaje, \"%\")"
   ]
  },
  {
   "cell_type": "markdown",
   "id": "0edf60c6-91b2-4673-b08f-760e88dbe2d5",
   "metadata": {},
   "source": [
    "Usuarios que han dado score de 5 siempre"
   ]
  },
  {
   "cell_type": "code",
   "execution_count": null,
   "id": "4b3e4ddb-68ca-4d4a-90f4-8ac3efc55677",
   "metadata": {},
   "outputs": [],
   "source": [
    "usuarios_exclusivo_score5 = (\n",
    "    df.groupby(\"UserId\")\n",
    "    .agg(\n",
    "        Solo_5estrellas=(\"Score\", lambda x: (x == 5).all()),\n",
    "    )\n",
    "    .reset_index()\n",
    ")\n",
    "\n",
    "usuarios_exclusivo_score5 = usuarios_exclusivo_score5[usuarios_exclusivo_score5[\"Solo_5estrellas\"]]\n",
    "print(\"Porcentaje de usuarios que dieron siempre un score de 5: \", len(usuarios_exclusivo_5estrellas)/len(df[\"UserId\"].unique())*100, \"%\")"
   ]
  },
  {
   "cell_type": "markdown",
   "id": "da75c201-7f5a-434a-962b-38ef514a753a",
   "metadata": {},
   "source": [
    "Usuarios que han dado score de 1 siempre"
   ]
  },
  {
   "cell_type": "code",
   "execution_count": null,
   "id": "9cf16103-ee93-4bad-a6bf-c31a6dd61ddd",
   "metadata": {},
   "outputs": [],
   "source": [
    "usuarios_exclusivo_score1 = (\n",
    "    df.groupby(\"UserId\")\n",
    "    .agg(\n",
    "        Solo_score1=(\"Score\", lambda x: (x == 1).all()),\n",
    "    )\n",
    "    .reset_index()\n",
    ")\n",
    "\n",
    "usuarios_exclusivo_score1 = usuarios_exclusivo_score1[usuarios_exclusivo_score1[\"Solo_1estrella\"]]\n",
    "print(len(usuarios_exclusivo_score1)/len(df[\"UserId\"].unique())*100)"
   ]
  },
  {
   "cell_type": "markdown",
   "id": "a8739c93",
   "metadata": {},
   "source": [
    "Usuarios que han hecho mas reseñas"
   ]
  },
  {
   "cell_type": "code",
   "execution_count": null,
   "id": "4cfaaff2",
   "metadata": {},
   "outputs": [],
   "source": [
    "reviews_count = df.groupby(\"ProfileName\").size().reset_index(name=\"ReviewCount\")\n",
    "avg_score = df.groupby(\"ProfileName\")[\"Score\"].mean().reset_index(name=\"AvgScore\")\n",
    "ProfileName_stats = pd.merge(reviews_count, avg_score, on=\"ProfileName\")\n",
    "top_10 = ProfileName_stats.sort_values(\"ReviewCount\", ascending=False)\n",
    "top_10.head(10)"
   ]
  },
  {
   "cell_type": "code",
   "execution_count": null,
   "id": "3748464e-c0e8-4332-9f95-4887f90a23c6",
   "metadata": {},
   "outputs": [],
   "source": [
    "top_users = df[\"ProfileName\"].value_counts().head(10)"
   ]
  },
  {
   "cell_type": "code",
   "execution_count": null,
   "id": "3bb3825a",
   "metadata": {},
   "outputs": [],
   "source": [
    "plt.figure(figsize=(10, 6))\n",
    "ax = sns.barplot(x=top_users.values, \n",
    "                 y=top_users.index,)  \n",
    "\n",
    "plt.title(\"Top 10 Usuarios con más Reseñas\", fontsize=14)\n",
    "plt.xlabel(\"Número de Reseñas\")\n",
    "plt.ylabel(\"Profile name\")\n",
    "\n",
    "for value in ax.containers[0]:  \n",
    "    width = value.get_width()\n",
    "    ax.text(width / 2,                    \n",
    "            value.get_y() + value.get_height()/2,  \n",
    "            f\"{int(width)}\",            \n",
    "            ha=\"center\", \n",
    "            va=\"center\",\n",
    "            color=\"white\",\n",
    "            fontsize=10)\n",
    "\n",
    "sns.despine() \n",
    "plt.tight_layout()\n",
    "plt.show()"
   ]
  },
  {
   "cell_type": "markdown",
   "id": "6a35676a-61f0-4354-b61e-54b989b11e5e",
   "metadata": {},
   "source": [
    "Usuarios que no hacen reseñas utiles (helpfulnessnumerator = 0)"
   ]
  },
  {
   "cell_type": "code",
   "execution_count": 41,
   "id": "8556792b-3a5a-4eb9-8e16-055e37aefeca",
   "metadata": {},
   "outputs": [
    {
     "name": "stdout",
     "output_type": "stream",
     "text": [
      "Total de usuarios con todas sus reseñas con HelpfulnessNumerator == 0:  97379\n",
      "Porcentaje que representan:  44.584392097612344 %\n"
     ]
    }
   ],
   "source": [
    "df = df[df[\"ProfileName\"].notna()]\n",
    "df[\"ProfileName\"] = df[\"ProfileName\"].fillna(\"anónimo\")\n",
    "usuarios_con_todo_0 = df.groupby(\"ProfileName\")[\"HelpfulnessNumerator\"].apply(lambda x: (x == 0).all())\n",
    "usuarios_filtrados = usuarios_con_todo_0[usuarios_con_todo_0].index\n",
    "conteo_reseñas = df[df[\"ProfileName\"].isin(usuarios_filtrados)].groupby(\"ProfileName\").size().reset_index(name=\"Numero_de_Reseñas\")\n",
    "porcentaje = (num_usuarios_todo_0 / total_usuarios) * 100\n",
    "\n",
    "print(\"Total de usuarios con todas sus reseñas con HelpfulnessNumerator == 0: \", len(conteo_reseñas))\n",
    "print(\"Porcentaje que representan: \", porcentaje, \"%\")"
   ]
  },
  {
   "cell_type": "markdown",
   "id": "b5b09d79-4907-4278-992c-f2fb0b5d2ca9",
   "metadata": {},
   "source": [
    "Usuarios que son utiles en las reviews (chiripa o experto)"
   ]
  },
  {
   "cell_type": "code",
   "execution_count": 44,
   "id": "a1977bc5-2c28-44c5-b3da-68bf9a14b347",
   "metadata": {},
   "outputs": [
    {
     "name": "stdout",
     "output_type": "stream",
     "text": [
      "Usuarios con todas sus reseñas con HelpfulnessNumerator >= 1: 89594\n",
      "Porcentaje que representan:  41.0200764599501 %\n"
     ]
    }
   ],
   "source": [
    "df[\"ProfileName\"] = df[\"ProfileName\"].fillna(\"anónimo\")\n",
    "total_usuarios = df[\"ProfileName\"].nunique()\n",
    "usuarios_helpful = df.groupby(\"ProfileName\")[\"HelpfulnessNumerator\"].apply(lambda x: (x >= 1).all())\n",
    "usuarios_helpful = usuarios_helpful[usuarios_helpful].index\n",
    "num_usuarios_helpful = len(usuarios_helpful)\n",
    "porcentaje_helpful = (num_usuarios_helpful / total_usuarios) * 100\n",
    "\n",
    "print(\"Usuarios con todas sus reseñas con HelpfulnessNumerator >= 1: \", num_usuarios_helpful)\n",
    "print(\"Porcentaje que representan: \", porcentaje_helpful, \"%\")"
   ]
  },
  {
   "cell_type": "code",
   "execution_count": 47,
   "id": "38810d1b-be81-4690-a4f2-be753cc24526",
   "metadata": {},
   "outputs": [
    {
     "name": "stdout",
     "output_type": "stream",
     "text": [
      "Usuarios con todas sus reseñas con HelpfulnessNumerator >= 1 y que tienen 10 o mas reseñas:  5321\n",
      "Porcentaje que representan:  2.436187990751551 %\n"
     ]
    }
   ],
   "source": [
    "df[\"ProfileName\"] = df[\"ProfileName\"].fillna(\"anónimo\")\n",
    "total_usuarios = df['ProfileName'].nunique()\n",
    "usuarios_helpful = df.groupby('ProfileName')['HelpfulnessNumerator'].apply(lambda x: (x >= 10).all())\n",
    "usuarios_helpful = usuarios_helpful[usuarios_helpful].index\n",
    "num_usuarios_helpful = len(usuarios_helpful)\n",
    "porcentaje_helpful = (num_usuarios_helpful / total_usuarios) * 100\n",
    "\n",
    "print(\"Usuarios con todas sus reseñas con HelpfulnessNumerator >= 10\", num_usuarios_helpful)\n",
    "print(\"Porcentaje que representan: \", porcentaje_helpful, \"%\")"
   ]
  },
  {
   "cell_type": "markdown",
   "id": "fe63e286-490f-48b2-a4b3-4115243bfa19",
   "metadata": {},
   "source": [
    "Credibilidad de los super validadores (busqueda de la validación de la reseña facil)"
   ]
  },
  {
   "cell_type": "code",
   "execution_count": 50,
   "id": "8bfb4dbd-8fe6-4280-8c92-972e961066ad",
   "metadata": {},
   "outputs": [
    {
     "name": "stdout",
     "output_type": "stream",
     "text": [
      "       ProductId  HelpfulnessRatio\n",
      "0     0006641040          0.986111\n",
      "1     7310172001          1.000000\n",
      "2     7310172101          1.000000\n",
      "3     B00002Z754          1.000000\n",
      "4     B00004CI84          0.882759\n",
      "...          ...               ...\n",
      "4142  B009K2BBT8          0.987116\n",
      "4143  B009M2LPHO          1.000000\n",
      "4144  B009M2LUEW          1.000000\n",
      "4145  B009QEBGIQ          0.882353\n",
      "4146  B009RB4GO4          0.866667\n",
      "\n",
      "[4147 rows x 2 columns]\n"
     ]
    }
   ],
   "source": [
    "df[\"HelpfulnessRatio\"] = df[\"HelpfulnessNumerator\"] / df[\"HelpfulnessDenominator\"]\n",
    "df[\"HelpfulnessRatio\"] = df[\"HelpfulnessRatio\"].fillna(0)\n",
    "\n",
    "reseñas_super_validadores = df[df[\"ProfileName\"].isin(usuarios_helpful)]\n",
    "helpfulness_por_producto = reseñas_super_validadores.groupby(\"ProductId\")[\"HelpfulnessRatio\"].mean().reset_index()\n",
    "\n",
    "print(helpfulness_por_producto)"
   ]
  },
  {
   "cell_type": "code",
   "execution_count": 48,
   "id": "967ebecf-07fb-4ea7-bc12-d7b463e596b7",
   "metadata": {},
   "outputs": [
    {
     "name": "stdout",
     "output_type": "stream",
     "text": [
      "Total de reseñas hechas por super validadores en esos productos que nos dicen como de creible es la capacidad de reseñar:  7747\n"
     ]
    }
   ],
   "source": [
    "productos_con_ranking = helpfulness_por_producto[\"ProductId\"].unique()\n",
    "reseñas_en_productos_rankeados = reseñas_super_validadores[reseñas_super_validadores[\"ProductId\"].isin(productos_con_ranking)]\n",
    "total_reseñas = len(reseñas_en_productos_rankeados)\n",
    "\n",
    "print(\"Total de reseñas hechas por super validadores en esos productos que nos dicen como de creible es la capacidad de reseñar: \", total_reseñas)"
   ]
  },
  {
   "cell_type": "markdown",
   "id": "49b46f02-d5ed-493e-8d00-9b9df779540b",
   "metadata": {},
   "source": [
    "Los anteriores supervalidadores eran un poco light, vamos a ver hasta cuando arriesgan su credibidad"
   ]
  },
  {
   "cell_type": "code",
   "execution_count": 51,
   "id": "ea28d9af-9c41-4b38-a404-0ddfc01aa20e",
   "metadata": {},
   "outputs": [
    {
     "name": "stdout",
     "output_type": "stream",
     "text": [
      "Cantidad de supervalidadores con más de 3 reseñas: 24\n",
      "Cantidad total de reseñas que hicieron: 369\n",
      "Ejemplos de supervalidadores:\n"
     ]
    }
   ],
   "source": [
    "usuarios_helpful = df.groupby(\"ProfileName\")[\"HelpfulnessNumerator\"].agg([\n",
    "    (\"todas_mayor_igual_10\", lambda x: (x >= 10).all()),\n",
    "    (\"num_reseñas\", \"count\")\n",
    "])\n",
    "\n",
    "supervalidadores = usuarios_helpful[\n",
    "    (usuarios_helpful[\"todas_mayor_igual_10\"]) &\n",
    "    (usuarios_helpful[\"num_reseñas\"] > 10)\n",
    "].index\n",
    "\n",
    "reseñas_supervalidadores = df[df[\"ProfileName\"].isin(supervalidadores)]\n",
    "\n",
    "\n",
    "print(\"Cantidad de supervalidadores con más de 10 reseñas: \",len(supervalidadores))\n",
    "print(\"Cantidad total de reseñas que hicieron: \", len(reseñas_supervalidadores))"
   ]
  },
  {
   "cell_type": "markdown",
   "id": "fd636d1b-1524-4011-82fa-8f5cf0633e3a",
   "metadata": {},
   "source": [
    "Usuarios arriesgados reseñando"
   ]
  },
  {
   "cell_type": "code",
   "execution_count": 25,
   "id": "a08ead78-d08a-4fea-a433-6869dbe2e9b0",
   "metadata": {},
   "outputs": [
    {
     "name": "stdout",
     "output_type": "stream",
     "text": [
      "Número de usuarios que tienen todas sus reseñas con HelpfulnessNumerator ≥ 1 y reseñan productos con ratio bajo: 2986\n",
      "Ejemplos de usuarios:\n",
      "['Brian A. Lee' 'Silvy' 'Mommy with an Opinion' 'J. arroyo \"GOLF NUT\"'\n",
      " 'Julie Sisk' 'D. Boucher' 'Nedrum \"nedrum\"' 'LINDA K. RINGLE'\n",
      " 'Nancy E. Ankrom' 'Nick L. Flores']\n"
     ]
    }
   ],
   "source": [
    "df[\"HelpfulnessRatio\"] = df[\"HelpfulnessNumerator\"] / df[\"HelpfulnessDenominator\"]\n",
    "df[\"HelpfulnessRatio\"] = df[\"HelpfulnessRatio\"].fillna(0)"
   ]
  },
  {
   "cell_type": "code",
   "execution_count": null,
   "id": "3dd12695-33a3-4e99-9393-9f53a0bf943c",
   "metadata": {},
   "outputs": [],
   "source": [
    "usuarios_validos = df.groupby(\"ProfileName\")[\"HelpfulnessNumerator\"].apply(lambda x: (x >= 1).all())\n",
    "usuarios_validos = usuarios_validos[usuarios_validos].index"
   ]
  },
  {
   "cell_type": "code",
   "execution_count": null,
   "id": "32d5a90c-e695-497f-9e5b-126f2f00fb3a",
   "metadata": {},
   "outputs": [],
   "source": [
    "producto_helpfulness = df.groupby(\"ProductId\")[\"HelpfulnessRatio\"].mean()"
   ]
  },
  {
   "cell_type": "code",
   "execution_count": null,
   "id": "c1059b66-0091-48ae-a3c7-a1743f6163fe",
   "metadata": {},
   "outputs": [],
   "source": [
    "productos_bajo_valor = producto_helpfulness[producto_helpfulness <= 0.2].index"
   ]
  },
  {
   "cell_type": "code",
   "execution_count": null,
   "id": "7b56da9b-9575-4b27-a517-552eef7e93a7",
   "metadata": {},
   "outputs": [],
   "source": [
    "df_validos = df[df[\"ProfileName\"].isin(usuarios_validos)]\n",
    "df_usuarios_en_productos_bajos = df_validos[df_validos[\"ProductId\"].isin(productos_bajo_valor)]"
   ]
  },
  {
   "cell_type": "code",
   "execution_count": null,
   "id": "c8ab36c8-54a3-4cf5-adcb-512074142801",
   "metadata": {},
   "outputs": [],
   "source": [
    "usuarios_objetivo = df_usuarios_en_productos_bajos[\"ProfileName\"].unique()"
   ]
  },
  {
   "cell_type": "code",
   "execution_count": null,
   "id": "7af358a6-dc68-4f69-9797-cfc96b403b4d",
   "metadata": {},
   "outputs": [],
   "source": [
    "print(\"Número de usuarios que tienen todas sus reseñas con HelpfulnessNumerator ≥ 1 y reseñan productos con ratio bajo: \", len(usuarios_objetivo))"
   ]
  },
  {
   "cell_type": "markdown",
   "id": "49ce30a4-f305-4991-aa0f-d9b3356d2f10",
   "metadata": {},
   "source": [
    "Indice de odio repentino al producto"
   ]
  },
  {
   "cell_type": "code",
   "execution_count": null,
   "id": "47c0bab9-0d66-4da0-828a-a54547da3ff9",
   "metadata": {},
   "outputs": [],
   "source": [
    "def odio_repentino_al_producto(df, min_time_between=30, sample_size=None):\n",
    "    if sample_size:\n",
    "        df = df.sample(sample_size)\n",
    "    \n",
    "    df_sorted = df.sort_values([\"UserId\", \"ProductId\", \"Time\"])\n",
    "    changed_users = []\n",
    "    grouped = df_sorted.groupby([\"UserId\", \"ProductId\"])\n",
    "    \n",
    "    for (user_id, product_id), group in grouped:\n",
    "        if len(group) < 2:\n",
    "            continue \n",
    "            \n",
    "        group = group.sort_values(\"Time\")   \n",
    "        group[\"days_since_last\"] = (group[\"Time\"] - group[\"Time\"].shift(1)).dt.days\n",
    "        \n",
    "        for i in range(1, len(group)):\n",
    "            prev_score = group.iloc[i-1][\"Score\"]\n",
    "            current_score = group.iloc[i][\"Score\"]\n",
    "            days_between = group.iloc[i][\"days_since_last\"]\n",
    "            \n",
    "            if prev_score == 5 and current_score == 1 and days_between >= min_time_between:\n",
    "                changed_users.append({\n",
    "                    \"UserId\": user_id,\n",
    "                    \"ProductId\": product_id,\n",
    "                    \"FirstReviewTime\": group.iloc[i-1][\"Time\"],\n",
    "                    \"LastReviewTime\": group.iloc[i][\"Time\"],\n",
    "                    \"DaysBetween\": days_between,\n",
    "                    \"FirstReviewText\": group.iloc[i-1][\"Text\"],\n",
    "                    \"LastReviewText\": group.iloc[i][\"Text\"],\n",
    "                    \"FirstReviewId\": group.iloc[i-1][\"Id\"],\n",
    "                    \"LastReviewId\": group.iloc[i][\"Id\"]\n",
    "                })\n",
    "    \n",
    "    return pd.DataFrame(changed_users)"
   ]
  },
  {
   "cell_type": "code",
   "execution_count": null,
   "id": "a5e5a9d2-cd4a-4485-8069-e027f07a5fb7",
   "metadata": {},
   "outputs": [],
   "source": [
    "odio_repentino_casos = odio_repentino_al_producto(df, min_time_between=30)\n",
    "print(\"Se encontraron\", len(odio_repentino_casos), \" casos de odio repentino\")"
   ]
  },
  {
   "cell_type": "code",
   "execution_count": null,
   "id": "ccea4cd4-1829-4a3d-9b23-96bb38538923",
   "metadata": {},
   "outputs": [],
   "source": [
    "if not odio_repentino_casos.empty:\n",
    "    print(\"\\nEjemplos de casos encontrados:\")\n",
    "    display(odio_repentino_casos.head())"
   ]
  },
  {
   "cell_type": "code",
   "execution_count": null,
   "id": "34fe2228-6436-4a46-975b-1520cb5cbe4f",
   "metadata": {},
   "outputs": [],
   "source": [
    "def analizar_odio_repentino(cases_df, original_df):\n",
    "    if cases_df.empty:\n",
    "        print(\"No se encontraron casos de odio repentino\")\n",
    "        return\n",
    "        \n",
    "    avg_days_between = cases_df[\"DaysBetween\"].mean()\n",
    "    print(\"\\nPromedio de días entre reseña positiva y negativa:\", avg_days_between, \"días\")\n",
    "    \n",
    "    top_products = cases_df[\"ProductId\"].value_counts().head(10)\n",
    "    print(\"\\nProductos con más casos de odio repentino:\")\n",
    "    print(top_products)\n",
    "    \n",
    "    cases_df[\"text_length_diff\"] = cases_df.apply(\n",
    "        lambda x: len(x[\"LastReviewText\"]) - len(x[\"FirstReviewText\"]), axis=1)\n",
    "    \n",
    "    plt.figure(figsize=(12, 5))\n",
    "    plt.subplot(1, 2, 1)\n",
    "    cases_df[\"DaysBetween\"].hist(bins=30)\n",
    "    plt.title(\"Distribución de días entre reseñas\")\n",
    "    plt.xlabel(\"Días\")\n",
    "    \n",
    "    plt.subplot(1, 2, 2)\n",
    "    cases_df[\"text_length_diff\"].hist(bins=30)\n",
    "    plt.title(\"Diferencia en longitud de texto\")\n",
    "    plt.xlabel(\"Caracteres (negativa - positiva)\")\n",
    "    plt.tight_layout()\n",
    "    plt.show()\n",
    "    \n",
    "    sample_case = cases_df.iloc[0]\n",
    "    print(\"\\nEjemplo detallado de un caso:\")\n",
    "    print(\"Usuario: \", sample_case['UserId'])\n",
    "    print(\"Producto: \", sample_case['ProductId'])\n",
    "    print(\"Tiempo entre reseñas: \", {ample_case['DaysBetween'], \"días\")\n",
    "    print(\"\\nPrimera reseña (5 estrellas):\")\n",
    "    print(sample_case['FirstReviewText'])\n",
    "    print(\"\\nSegunda reseña (1 estrella):\")\n",
    "    print(sample_case['LastReviewText'])\n",
    "\n",
    "analizar_odio_repentino(sudden_hate_cases, df)"
   ]
  },
  {
   "cell_type": "code",
   "execution_count": null,
   "id": "e8937055-cbd2-473f-b424-eb0d25246f58",
   "metadata": {},
   "outputs": [],
   "source": [
    "'''def plot_user_rating_trajectory(user_id, product_id, df):\n",
    "    user_reviews = df[(df[\"UserId\"] == user_id) & \n",
    "                      (df[\"ProductId\"] == product_id)].sort_values(\"Time\")\n",
    "    \n",
    "    if len(user_reviews) < 2:\n",
    "        print(\"El usuario solo tiene una reseña para este producto\")\n",
    "        return\n",
    "    \n",
    "    plt.figure(figsize=(10, 5))\n",
    "    plt.plot(user_reviews[\"Time\"], user_reviews[\"Score\"], \"o-\", markersize=8)\n",
    "    plt.title(f\"Trayectoria de ratings para usuario {user_id} y producto {product_id}\")\n",
    "    plt.xlabel(\"Fecha\")\n",
    "    plt.ylabel(\"Rating (1-5)\")\n",
    "    plt.yticks([1, 2, 3, 4, 5])\n",
    "    plt.grid(True)\n",
    "    \n",
    "    for i in range(len(user_reviews)):\n",
    "        plt.annotate(f\"{user_reviews.iloc[i]['Score']}\", \n",
    "                    (user_reviews.iloc[i]['Time'], user_reviews.iloc[i]['Score']),\n",
    "                    textcoords=\"offset points\", xytext=(0,10), ha='center')\n",
    "    \n",
    "    plt.show()\n",
    "\n",
    "if not sudden_hate_cases.empty:\n",
    "    example_user = sudden_hate_cases.iloc[0]['UserId']\n",
    "    example_product = sudden_hate_cases.iloc[0]['ProductId']\n",
    "    plot_user_rating_trajectory(example_user, example_product, df)'''"
   ]
  },
  {
   "cell_type": "markdown",
   "id": "a65cbfac-cb54-4cf4-a6d9-edad2cfa9721",
   "metadata": {},
   "source": [
    "Efecto de la primera reseña en las ventas del producto"
   ]
  },
  {
   "cell_type": "code",
   "execution_count": null,
   "id": "5848a855-8380-4c54-a4b3-0f7cc6c0204e",
   "metadata": {},
   "outputs": [],
   "source": [
    "first_reviews = df.sort_values(\"Time\").groupby(\"ProductId\").first().reset_index()"
   ]
  },
  {
   "cell_type": "code",
   "execution_count": null,
   "id": "1faecc57-bb85-4fe6-9e77-c0c385596214",
   "metadata": {},
   "outputs": [],
   "source": [
    "first_reviews[\"FirstReviewType\"] = pd.cut(first_reviews[\"Score\"], bins=[0, 2, 3, 5], labels=[\"Negativa (1 y 2)\", \"Neutral (3)\", \"Positiva (4 y 5)\"], right=False)"
   ]
  },
  {
   "cell_type": "code",
   "execution_count": null,
   "id": "300233c2-4329-494b-94e7-ad24fa5aca42",
   "metadata": {},
   "outputs": [],
   "source": [
    "df_with_first_type = pd.merge(df, first_reviews[['ProductId', 'FirstReviewType']], on='ProductId')"
   ]
  },
  {
   "cell_type": "code",
   "execution_count": null,
   "id": "e5ab0bdf-8c09-4448-8265-c886a7c2b0ce",
   "metadata": {},
   "outputs": [],
   "source": [
    "def analyze_first_review_effect(df_with_first_type):\n",
    "\n",
    "    product_stats = df_with_first_type.groupby([\"ProductId\", \"FirstReviewType\"]).agg(\n",
    "        total_reviews=(\"Score\", \"size\"),\n",
    "        avg_score=(\"Score\", \"mean\"),\n",
    "        time_span=(\"Time\", lambda x: (x.max() - x.min()).days)\n",
    "    ).reset_index()\n",
    "    \n",
    "    plt.figure(figsize=(12, 6))\n",
    "    sns.boxplot(data=product_stats, x=\"FirstReviewType\", y=\"total_reviews\", showfliers=False)\n",
    "    plt.title(\"Distribución del Número Total de Reseñas por Tipo de Primera Reseña\")\n",
    "    plt.xlabel(\"Tipo de Primera Reseña\")\n",
    "    plt.ylabel(\"Número Total de Reseñas\")\n",
    "    plt.show()\n",
    "    \n",
    "    plt.figure(figsize=(12, 6))\n",
    "    for review_type in [\"Negativa (1-2)\", \"Neutral (3)\", \"Positiva (4-5)\"]:\n",
    "        subset = product_stats[product_stats[\"FirstReviewType\"] == review_type]\n",
    "        sns.ecdfplot(data=subset, x=\"total_reviews\", label=review_type)\n",
    "    plt.title(\"Distribución Acumulativa del Número de Reseñas\")\n",
    "    plt.xlabel(\"Número Total de Reseñas\")\n",
    "    plt.ylabel(\"Proporción de Productos\")\n",
    "    plt.legend()\n",
    "    plt.show()\n",
    "    \n",
    "\n",
    "    neg = product_stats[product_stats[\"FirstReviewType\"] == \"Negativa (1-2)\"][\"total_reviews\"]\n",
    "    pos = product_stats[product_stats[\"FirstReviewType\"] == \"Positiva (4-5)\"][\"total_reviews\"]\n",
    "    \n",
    "    t_stat, p_value = stats.mannwhitneyu(neg, pos, alternative=\"less\")\n",
    "    print(\"\\nResultado del Test Estadístico (Mann-Whitney U):\")\n",
    "    print(\"Los productos con primera reseña negativa tienen en promedio menos reseñas?)\n",
    "    print(f\"p-value = {p_value:.4f} ({'Sí' if p_value < 0.05 else 'No'} significativo)\")\n",
    "    \n",
    "    print(\"\\nResumen Estadístico:\")\n",
    "    print(product_stats.groupby(\"FirstReviewType\")[\"total_reviews\"].describe())\n",
    "    \n",
    "    return product_stats"
   ]
  },
  {
   "cell_type": "code",
   "execution_count": null,
   "id": "da3a425e-d264-4ef2-9357-49c6823b329a",
   "metadata": {},
   "outputs": [],
   "source": [
    "product_stats = analyze_first_review_effect(df_with_first_type)"
   ]
  },
  {
   "cell_type": "code",
   "execution_count": null,
   "id": "c1d28f90-6430-4095-8b33-60bdc6fd78e9",
   "metadata": {},
   "outputs": [],
   "source": [
    "def analizar_acumulación_de_reviews(df_f):\n",
    "    temporal_data = []\n",
    "    \n",
    "    for product_id, group in df_with_first_type.groupby(\"ProductId\"):\n",
    "        first_type = group[\"FirstReviewType\"].iloc[0]\n",
    "        sorted_reviews = group.sort_values(\"Time\")\n",
    "        sorted_reviews[\"cumulative_reviews\"] = range(1, len(sorted_reviews)+1)\n",
    "        sorted_reviews[\"days_since_first\"] = (sorted_reviews[\"Time\"] - sorted_reviews[\"Time\"].min()).dt.days\n",
    "        temporal_data.append(sorted_reviews[[\"ProductId\", \"FirstReviewType\", \"days_since_first\", \"cumulative_reviews\"]])\n",
    "    \n",
    "    temporal_df = pd.concat(temporal_data)\n",
    "    \n",
    "    time_points = [0, 7, 30, 90, 180, 365, 730]  \n",
    "    comparison_data = []\n",
    "    \n",
    "    for first_type in [\"Negativa (1-2)\", \"Neutral (3)\", \"Positiva (4-5)\"]:\n",
    "        subset = temporal_df[temporal_df[\"FirstReviewType\"] == first_type]\n",
    "        \n",
    "        for days in time_points:\n",
    "\n",
    "            temp = subset[subset[\"days_since_first\"] <= days]\n",
    "            latest_counts = temp.groupby(\"ProductId\")[\"cumulative_reviews\"].last().dropna()\n",
    "            \n",
    "            if not latest_counts.empty:\n",
    "                comparison_data.append({\n",
    "                    \"FirstReviewType\": first_type,\n",
    "                    \"DaysSinceFirst\": days,\n",
    "                    \"AvgReviews\": latest_counts.mean(),\n",
    "                    \"MedianReviews\": latest_counts.median(),\n",
    "                    \"NProducts\": len(latest_counts)\n",
    "                })\n",
    "    \n",
    "    comparison_df = pd.DataFrame(comparison_data)\n",
    "    \n",
    "    plt.figure(figsize=(12, 6))\n",
    "    sns.lineplot(data=comparison_df, x=\"DaysSinceFirst\", y=\"AvgReviews\", \n",
    "                 hue=\"FirstReviewType\", style=\"FirstReviewType\", markers=True, dashes=False)\n",
    "    plt.title(\"Acumulación Promedio de Reseñas a lo Largo del Tiempo\")\n",
    "    plt.xlabel(\"Días desde la Primera Reseña\")\n",
    "    plt.ylabel(\"Número Promedio de Reseñas\")\n",
    "    plt.grid(True)\n",
    "    plt.show()\n",
    "    \n",
    "    return comparison_df"
   ]
  },
  {
   "cell_type": "code",
   "execution_count": null,
   "id": "ec1a92d6-cd22-4dc5-9001-cc67576252fa",
   "metadata": {},
   "outputs": [],
   "source": [
    "accumulation_stats = analyze_review_accumulation(df_f)"
   ]
  },
  {
   "cell_type": "markdown",
   "id": "80e97825",
   "metadata": {},
   "source": [
    "# Relaciones con la longitud de la reseña"
   ]
  },
  {
   "cell_type": "markdown",
   "id": "b4a2be49-f677-4df2-bd5a-19762dc4394e",
   "metadata": {},
   "source": [
    "Relación entre el score y la longitud de la reseña"
   ]
  },
  {
   "cell_type": "code",
   "execution_count": null,
   "id": "e8f052da-7a97-43c5-9762-a684eaa27d34",
   "metadata": {},
   "outputs": [],
   "source": [
    "df[\"word_count\"] = df[\"Text\"].apply(lambda x: len(str(x).split()))\n",
    "mean_words_by_score = df.groupby(\"Score\")[\"word_count\"].mean().reset_index()"
   ]
  },
  {
   "cell_type": "code",
   "execution_count": null,
   "id": "daaf77a5",
   "metadata": {},
   "outputs": [],
   "source": [
    "plt.figure(figsize=(10, 6))\n",
    "bars = plt.bar(x=mean_words_by_score[\"Score\"], height=mean_words_by_score[\"word_count\"], color=[\"#ff6b6b\", \"#ffa502\", \"#feca57\", \"#1dd1a1\", \"#2e86de\"], edgecolor=\"black\", linewidth=0.7)\n",
    "\n",
    "for bar in bars:\n",
    "    height = bar.get_height()\n",
    "    plt.text(bar.get_x() + bar.get_width()/2., \n",
    "             height + 0.5,  \n",
    "             f\"{height:.1f}\", \n",
    "             ha=\"center\", \n",
    "             va=\"bottom\",\n",
    "             fontsize=11,\n",
    "             fontweight=\"bold\")\n",
    "    \n",
    "plt.xlabel(\"Score\", fontsize=12)\n",
    "plt.ylabel(\"mean_words\", fontsize=12)\n",
    "plt.title(\"Promedio de palabras por Rating\", fontsize=14, pad=20)\n",
    "plt.xticks(ticks=[1, 2, 3, 4, 5])\n",
    "\n",
    "plt.ylim(70, 100)\n",
    "plt.yticks(range(70, 101, 5))\n",
    "\n",
    "plt.grid(axis=\"y\", linestyle=\"--\", alpha=0.7)\n",
    "plt.tight_layout()\n",
    "plt.show()"
   ]
  },
  {
   "cell_type": "markdown",
   "id": "aa08f076-7500-4603-a4ca-94b8915273a9",
   "metadata": {},
   "source": [
    "Relación entre helpfulness numerator y longitud del texto"
   ]
  },
  {
   "cell_type": "code",
   "execution_count": null,
   "id": "92c18444-5393-4636-ac62-6c62912a9206",
   "metadata": {},
   "outputs": [],
   "source": [
    "df[\"Text_length\"] = df[\"Text\"].str.len()\n",
    "df[\"Length_bin\"] = pd.cut(df[\"Text_length\"], bins=20)\n",
    "mean_helpfulness = df.groupby([\"Length_bin\", \"Score\"])[\"HelpfulnessNumerator\"].mean().reset_index()"
   ]
  },
  {
   "cell_type": "code",
   "execution_count": null,
   "id": "4763f3a7-e96b-4908-a116-08c348ae60ff",
   "metadata": {},
   "outputs": [],
   "source": [
    "sns.scatterplot(\n",
    "    data=df.sample(1000),\n",
    "    x=\"Text_length\",\n",
    "    y=\"HelpfulnessNumerator\",\n",
    "    hue=\"Score\",\n",
    "    palette=\"viridis\",\n",
    "    alpha=0.7\n",
    ")\n",
    "\n",
    "plt.title(\"Relación entre Longitud, Votos Útiles y Puntuación\")\n",
    "plt.show()"
   ]
  },
  {
   "cell_type": "code",
   "execution_count": null,
   "id": "341ab82a-bc18-41fd-8bed-b08fcbeda6cd",
   "metadata": {},
   "outputs": [],
   "source": [
    "df[\"Text_length\"] = df[\"Text\"].str.len()\n",
    "zoom_df = df[(df[\"Text_length\"] <= 1000) & (df[\"HelpfulnessNumerator\"] <= 50)]\n",
    "\n",
    "sns.scatterplot(\n",
    "    data=zoom_df.sample(1000),\n",
    "    x=\"Text_length\",\n",
    "    y=\"HelpfulnessNumerator\",\n",
    "    hue=\"Score\",\n",
    "    palette=\"viridis\",\n",
    "    alpha=0.7\n",
    ")\n",
    "plt.title(\"Relación entre Longitud, Votos Útiles y Puntuación\")\n",
    "plt.show()"
   ]
  },
  {
   "cell_type": "markdown",
   "id": "37821937",
   "metadata": {},
   "source": [
    "# Armagedón de productos"
   ]
  },
  {
   "cell_type": "code",
   "execution_count": null,
   "id": "be927ba4",
   "metadata": {},
   "outputs": [],
   "source": [
    "productos_armagedon = df.groupby(\"ProductId\").filter(lambda x: (x[\"Score\"] == 1).mean() > 0.5)\n",
    "\n",
    "resumen = df.groupby(\"ProductId\").agg(\n",
    "    total_resenas=(\"Score\", \"count\"),\n",
    "    porcentaje_1_estrella=(\"Score\", lambda x: (x == 1).mean()*100)\n",
    ").query(\"porcentaje_1_estrella > 0.5 & total_resenas > 20\")\n",
    "\n",
    "resumen.head()"
   ]
  },
  {
   "cell_type": "code",
   "execution_count": null,
   "id": "0782718d",
   "metadata": {},
   "outputs": [],
   "source": [
    "proxy = (\n",
    "    df.groupby(\"ProductId\")\n",
    "      .size()\n",
    "      .reset_index(name=\"ReviewCount\")\n",
    ")\n",
    "\n",
    "proxy[\"SalesRank\"] = proxy[\"ReviewCount\"] \\\n",
    "    .rank(method=\"dense\", ascending=False) \\\n",
    "    .astype(int)\n",
    "ventas_df = proxy[[\"ProductId\", \"SalesRank\"]]\n",
    "\n",
    "mask = (\n",
    "    df.groupby(\"ProductId\")[\"Score\"]\n",
    "      .transform(lambda s: (s == 1).mean())\n",
    "    > 0.5\n",
    ")\n",
    "productos_armagedon = df[mask].copy()\n",
    "\n",
    "productos_armagedon.head()"
   ]
  },
  {
   "cell_type": "code",
   "execution_count": null,
   "id": "168b409a",
   "metadata": {},
   "outputs": [],
   "source": [
    "vectorizer = CountVectorizer(stop_words=\"english\", max_features=20)\n",
    "X = vectorizer.fit_transform(productos_armagedon[\"Text\"])\n",
    "palabras = vectorizer.get_feature_names_out()\n",
    "\n",
    "prod_with_rank = (\n",
    "    productos_armagedon[[\"ProductId\"]]\n",
    "      .merge(ventas_df, on=\"ProductId\", how=\"left\")\n",
    ")\n",
    "\n",
    "df_pal = pd.DataFrame(X.toarray(), columns=palabras)\n",
    "df_pal[\"SalesRank\"] = prod_with_rank[\"SalesRank\"].values\n",
    "\n",
    "corrs = df_pal.corr()[\"SalesRank\"].drop(\"SalesRank\")\n",
    "heatmap_df = corrs.to_frame(name=\"Correlación\")\n",
    "\n",
    "plt.figure(figsize=(6, 10))\n",
    "ax = sns.heatmap(\n",
    "    heatmap_df,\n",
    "    annot=True,\n",
    "    cmap=\"coolwarm\",\n",
    "    linewidths=0.5,\n",
    "    linecolor=\"gray\"\n",
    ")\n",
    "ax.set_title(\"Correlación: Presencia de palabra vs. SalesRank\")\n",
    "ax.set_ylabel(\"\")\n",
    "ax.set_xlabel(\"Coeficiente de correlación\")\n",
    "plt.tight_layout()\n",
    "plt.show()"
   ]
  },
  {
   "cell_type": "markdown",
   "id": "2aa83995-998c-4755-892e-dd3290bb3e53",
   "metadata": {},
   "source": [
    "# Busqueda de correlaciones"
   ]
  },
  {
   "cell_type": "markdown",
   "id": "7775b7a5-046c-4432-82bb-8f62b9eb282c",
   "metadata": {},
   "source": [
    "Helpfulness ratio vs score"
   ]
  },
  {
   "cell_type": "code",
   "execution_count": null,
   "id": "3238b697-b5c4-49e3-af82-88648ca79af8",
   "metadata": {},
   "outputs": [],
   "source": [
    "df[\"HelpfulnessRatio\"] = df.apply(\n",
    "    lambda x: x[\"HelpfulnessNumerator\"]/x[\"HelpfulnessDenominator\"] \n",
    "    if x[\"HelpfulnessDenominator\"] > 0 else 0, \n",
    "    axis=1\n",
    ")"
   ]
  },
  {
   "cell_type": "code",
   "execution_count": null,
   "id": "33d32a0e-ac6f-4324-9f13-df3d812ca5bc",
   "metadata": {},
   "outputs": [],
   "source": [
    "correlacion_pearson = df[[\"HelpfulnessRatio\", \"Score\"]].corr(method=\"pearson\").iloc[0,1]\n",
    "print(f\"Correlación de Pearson: {correlacion_pearson:.3f}\")"
   ]
  },
  {
   "cell_type": "code",
   "execution_count": null,
   "id": "5af2eabe-1d59-420c-b809-b584f04180e2",
   "metadata": {},
   "outputs": [],
   "source": [
    "plt.figure(figsize=(10,6))\n",
    "sns.boxplot(x=\"Score\", y=\"HelpfulnessRatio\", data=df)\n",
    "plt.title(\"Distribución de HelpfulnessRatio por Puntuación\")\n",
    "plt.show()"
   ]
  },
  {
   "cell_type": "markdown",
   "id": "cee4728c-a40b-4c24-9f55-bcf8473b45fb",
   "metadata": {},
   "source": [
    "Correlación entre el numero de reseñas y el rating promedio"
   ]
  },
  {
   "cell_type": "code",
   "execution_count": null,
   "id": "77b1df34-d75c-4c25-8ac0-c1e49ff071d8",
   "metadata": {},
   "outputs": [],
   "source": [
    "def review_count_vs_rating(df):\n",
    "    product_stats = df.groupby(\"ProductId\").agg(\n",
    "        review_count=(\"Score\", \"size\"),\n",
    "        avg_score=(\"Score\", \"mean\"),\n",
    "        score_std=(\"Score\", \"std\")\n",
    "    ).reset_index()\n",
    "    return product_stats"
   ]
  },
  {
   "cell_type": "code",
   "execution_count": null,
   "id": "79f2116d-4fa6-404f-9d4e-58ec2ce10f30",
   "metadata": {},
   "outputs": [],
   "source": [
    "product_stats = review_count_vs_rating(df)"
   ]
  },
  {
   "cell_type": "code",
   "execution_count": null,
   "id": "e22dbc0e-11cd-4bd3-b1e8-ac006115433e",
   "metadata": {},
   "outputs": [],
   "source": [
    "correlation = product_stats['review_count'].corr(product_stats['avg_score'])\n",
    "print(\"Correlación entre cantidad de reseñas y rating promedio: \", correlation)"
   ]
  },
  {
   "cell_type": "code",
   "execution_count": null,
   "id": "d2aa3dbf-a585-4cb5-9074-5b98758152f8",
   "metadata": {},
   "outputs": [],
   "source": [
    "plt.figure(figsize=(12, 6))\n",
    "sns.scatterplot(data=product_stats, x='review_count', y='avg_score', alpha=0.6)\n",
    "plt.title(\"Relación entre cantidad de reseñas y rating promedio por producto\")\n",
    "plt.xlabel(\"Cantidad de reseñas\")\n",
    "plt.ylabel(\"Rating promedio\")\n",
    "plt.grid(True)\n",
    "plt.show()"
   ]
  },
  {
   "cell_type": "markdown",
   "id": "948db468-fefc-4d80-bbfa-9752d3399d0b",
   "metadata": {},
   "source": [
    "# Distribuciones avanzadas"
   ]
  },
  {
   "cell_type": "markdown",
   "id": "fc8dbf46-303c-4661-a2ea-b4872a776d2e",
   "metadata": {},
   "source": [
    "Distribución de Puntuaciones de los productos por Volumen de Reseñas"
   ]
  },
  {
   "cell_type": "code",
   "execution_count": null,
   "id": "03a3d7f6-7eff-45ed-9b8e-9dd07b75af19",
   "metadata": {},
   "outputs": [],
   "source": [
    "df[\"CountReviews\"] = df.groupby(\"ProductId\")[\"ProductId\"].transform(\"count\")\n",
    "\n",
    "df[\"ReviewVolume\"] = pd.qcut(\n",
    "    df[\"CountReviews\"],\n",
    "    q=3,\n",
    "    labels=[\"Pocas\", \"Medianas\", \"Muchas\"],\n",
    "    duplicates=\"drop\"  \n",
    ")"
   ]
  },
  {
   "cell_type": "code",
   "execution_count": null,
   "id": "ea862175-1cb2-4346-8621-98ff3588a5b0",
   "metadata": {},
   "outputs": [],
   "source": [
    "palette = {\"Pocas\": \"#1f77b4\", \"Medianas\": \"#ff7f0e\", \"Muchas\": \"#2ca02c\"}\n",
    "\n",
    "g = sns.FacetGrid(\n",
    "    df,\n",
    "    col=\"ReviewVolume\",\n",
    "    col_order=[\"Pocas\", \"Medianas\", \"Muchas\"],\n",
    "    height=4,\n",
    "    aspect=1.5,\n",
    "    sharey=True\n",
    ")\n",
    "\n",
    "g.map_dataframe(\n",
    "    sns.kdeplot,\n",
    "    x=\"Score\",\n",
    "    fill=True,\n",
    "    lw=2,\n",
    "    common_norm=False,\n",
    "    alpha=0.6,\n",
    "    color=None \n",
    ")\n",
    "\n",
    "g.set_titles(col_template=\"{col_name}\")\n",
    "g.set_axis_labels(\"Puntuación (Score)\", \"Densidad\")\n",
    "g.fig.subplots_adjust(top=0.85)\n",
    "g.fig.suptitle(\"Distribución de Puntuaciones por Volumen de Reseñas\", fontsize=16)\n",
    "\n",
    "sns.despine()\n",
    "plt.tight_layout()\n",
    "plt.show()"
   ]
  },
  {
   "cell_type": "markdown",
   "id": "e4a7fd74-9b2e-406a-87d3-009b217d00a4",
   "metadata": {},
   "source": [
    "Analisis de rafagas de reseñas"
   ]
  },
  {
   "cell_type": "code",
   "execution_count": null,
   "id": "97888686-e30f-478a-a34a-5e8444c4e8c6",
   "metadata": {},
   "outputs": [],
   "source": [
    "def detect_review_bursts(df, time_window=\"7D\", threshold=10):\n",
    "    bursts = df.groupby([\"ProductId\", pd.Grouper(key=\"Time\", freq=time_window)])\\\n",
    "               .size()\\\n",
    "               .reset_index(name=\"count\")\n",
    "    \n",
    "    suspicious_bursts = bursts[bursts[\"count\"] >= threshold]\n",
    "    \n",
    "    return suspicious_bursts.sort_values(\"count\", ascending=False)"
   ]
  },
  {
   "cell_type": "code",
   "execution_count": null,
   "id": "b2508460-77fb-44a5-b979-04689fdc8d7d",
   "metadata": {},
   "outputs": [],
   "source": [
    "suspicious_bursts = detect_review_bursts(df)\n",
    "print(\"Productos con posibles review bombing:\")\n",
    "print(suspicious_bursts.head(10))"
   ]
  },
  {
   "cell_type": "code",
   "execution_count": null,
   "id": "cf796152-673c-4199-8da4-c584f498a255",
   "metadata": {},
   "outputs": [],
   "source": [
    "def plot_product_reviews(product_id, df):\n",
    "    product_reviews = df[df['ProductId'] == product_id].sort_values(\"Time\")\n",
    "    \n",
    "    plt.figure(figsize=(12, 6))\n",
    "    plt.scatter(product_reviews[\"Time\"], product_reviews[\"Score\"], alpha=0.6)\n",
    "    plt.title(\"Distribución temporal de reseñas para producto\", product_id)\n",
    "    plt.xlabel(\"Fecha\")\n",
    "    plt.ylabel(\"Puntuación (1-5)\")\n",
    "    plt.grid(True)\n",
    "    plt.show()"
   ]
  },
  {
   "cell_type": "code",
   "execution_count": null,
   "id": "f6613ffb-493b-409a-a40b-8f1d7ac7cb8a",
   "metadata": {},
   "outputs": [],
   "source": [
    "if not suspicious_bursts.empty:\n",
    "    plot_product_reviews(suspicious_bursts.iloc[0]['ProductId'], df)"
   ]
  },
  {
   "cell_type": "code",
   "execution_count": null,
   "id": "ca071701-1845-4d2e-a3fc-913ffd15737c",
   "metadata": {},
   "outputs": [],
   "source": []
  },
  {
   "cell_type": "code",
   "execution_count": null,
   "id": "d93c5595-1454-48f6-8721-9041809985f8",
   "metadata": {},
   "outputs": [],
   "source": []
  }
 ],
 "metadata": {
  "celltoolbar": "Tags",
  "kernelspec": {
   "display_name": "Python 3 (ipykernel)",
   "language": "python",
   "name": "python3"
  },
  "language_info": {
   "codemirror_mode": {
    "name": "ipython",
    "version": 3
   },
   "file_extension": ".py",
   "mimetype": "text/x-python",
   "name": "python",
   "nbconvert_exporter": "python",
   "pygments_lexer": "ipython3",
   "version": "3.13.5"
  }
 },
 "nbformat": 4,
 "nbformat_minor": 5
}
